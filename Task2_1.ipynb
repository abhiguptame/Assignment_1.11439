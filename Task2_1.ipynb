{
 "cells": [
  {
   "cell_type": "markdown",
   "metadata": {},
   "source": [
    "# Task 2:"
   ]
  },
  {
   "cell_type": "markdown",
   "metadata": {},
   "source": [
    "### 1. Write a program which accepts a sequence of comma-separated numbers from console and generate a list."
   ]
  },
  {
   "cell_type": "code",
   "execution_count": 1,
   "metadata": {},
   "outputs": [
    {
     "name": "stdout",
     "output_type": "stream",
     "text": [
      "Enter comma separated values: 7,8,9\n",
      "['7', '8', '9']\n"
     ]
    }
   ],
   "source": [
    "'''\n",
    "This program accepts a sequence of comma-separated numbers from console and generate a list.\n",
    "'''\n",
    "comma_separated_values = input(\"Enter comma separated values: \") #Taking input from console\n",
    "number_list = comma_separated_values.split(',') #Splitting the input by comma and assigning the list to the number_list variable\n",
    "print(number_list) #Printing generated list "
   ]
  }
 ],
 "metadata": {
  "kernelspec": {
   "display_name": "Python 3",
   "language": "python",
   "name": "python3"
  },
  "language_info": {
   "codemirror_mode": {
    "name": "ipython",
    "version": 3
   },
   "file_extension": ".py",
   "mimetype": "text/x-python",
   "name": "python",
   "nbconvert_exporter": "python",
   "pygments_lexer": "ipython3",
   "version": "3.6.4"
  }
 },
 "nbformat": 4,
 "nbformat_minor": 2
}
