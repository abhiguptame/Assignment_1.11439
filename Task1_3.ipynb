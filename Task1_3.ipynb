{
 "cells": [
  {
   "cell_type": "markdown",
   "metadata": {},
   "source": [
    "# Task 1:"
   ]
  },
  {
   "cell_type": "markdown",
   "metadata": {},
   "source": [
    "### 3. Write a Python program to accept the user's first and last name and then getting them printed in the the reverse order with a space between first name and last name."
   ]
  },
  {
   "cell_type": "code",
   "execution_count": 1,
   "metadata": {},
   "outputs": [
    {
     "name": "stdout",
     "output_type": "stream",
     "text": [
      "Enter first name: John\n",
      "Enter last name: Doe\n",
      "eoD nhoJ\n"
     ]
    }
   ],
   "source": [
    "'''\n",
    "This program accepts the user's first and last name and then print them in\n",
    "the reverse order with a space between first name and last name.\n",
    "'''\n",
    "first_name = input(\"Enter first name: \") #Taking first name input\n",
    "last_name = input(\"Enter last name: \") #Taking last name input\n",
    "full_name = first_name + \" \" + last_name #Adding first_name and last_name with a space between them\n",
    "print (full_name[::-1]) #Printing full_name in reverse order "
   ]
  }
 ],
 "metadata": {
  "kernelspec": {
   "display_name": "Python 3",
   "language": "python",
   "name": "python3"
  },
  "language_info": {
   "codemirror_mode": {
    "name": "ipython",
    "version": 3
   },
   "file_extension": ".py",
   "mimetype": "text/x-python",
   "name": "python",
   "nbconvert_exporter": "python",
   "pygments_lexer": "ipython3",
   "version": "3.6.4"
  }
 },
 "nbformat": 4,
 "nbformat_minor": 2
}
