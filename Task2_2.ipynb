{
 "cells": [
  {
   "cell_type": "markdown",
   "metadata": {},
   "source": [
    "# Task 2:"
   ]
  },
  {
   "cell_type": "markdown",
   "metadata": {},
   "source": [
    "### 2. Create the below pattern using nested for loop in Python.\n",
    "\n",
    " &ast;<br/>\n",
    " &ast;&ast;<br/>\n",
    " &ast;&ast;&ast;<br/>\n",
    " &ast;&ast;&ast;&ast;<br/>\n",
    " &ast;&ast;&ast;&ast;&ast;<br/>\n",
    " &ast;&ast;&ast;&ast;<br/>\n",
    " &ast;&ast;&ast;<br/>\n",
    " &ast;&ast;<br/>\n",
    " &ast;"
   ]
  },
  {
   "cell_type": "code",
   "execution_count": 2,
   "metadata": {},
   "outputs": [
    {
     "name": "stdout",
     "output_type": "stream",
     "text": [
      "*\n",
      "**\n",
      "***\n",
      "****\n",
      "*****\n",
      "****\n",
      "***\n",
      "**\n",
      "*\n"
     ]
    }
   ],
   "source": [
    "'''\n",
    "This program prints the specified pattern using nested for loop.\n",
    "'''\n",
    "number_list = [1,2,3,4,5,4,3,2,1] #Assigning the custom list to the number_list variable\n",
    "for i in number_list: #Iterating through the number_list list\n",
    "    print(\"*\" * i) #Printing the specified pattern "
   ]
  }
 ],
 "metadata": {
  "kernelspec": {
   "display_name": "Python 3",
   "language": "python",
   "name": "python3"
  },
  "language_info": {
   "codemirror_mode": {
    "name": "ipython",
    "version": 3
   },
   "file_extension": ".py",
   "mimetype": "text/x-python",
   "name": "python",
   "nbconvert_exporter": "python",
   "pygments_lexer": "ipython3",
   "version": "3.6.4"
  }
 },
 "nbformat": 4,
 "nbformat_minor": 2
}
