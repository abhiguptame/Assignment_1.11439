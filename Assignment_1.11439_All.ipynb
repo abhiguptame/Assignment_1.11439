{
 "cells": [
  {
   "cell_type": "markdown",
   "metadata": {},
   "source": [
    "# Task 1:"
   ]
  },
  {
   "cell_type": "markdown",
   "metadata": {},
   "source": [
    "### 1. Install Jupyter notebook and run the first program and share the screenshot of the output."
   ]
  },
  {
   "cell_type": "code",
   "execution_count": 3,
   "metadata": {},
   "outputs": [
    {
     "name": "stdout",
     "output_type": "stream",
     "text": [
      "Hello AcadGild!\n"
     ]
    }
   ],
   "source": [
    "'''\n",
    "My first program in jupyter notebook. \n",
    "\n",
    "'''\n",
    "print(\"Hello AcadGild!\") "
   ]
  },
  {
   "cell_type": "markdown",
   "metadata": {},
   "source": [
    "### 2. Write a program which will find all such numbers which are divisible by 7 but are not a multiple of 5, between 2000 and 3200 (both included). The numbers obtained should be printed in a comma-separated sequence on a single line."
   ]
  },
  {
   "cell_type": "code",
   "execution_count": 9,
   "metadata": {},
   "outputs": [
    {
     "name": "stdout",
     "output_type": "stream",
     "text": [
      "2002,2009,2016,2023,2037,2044,2051,2058,2072,2079,2086,2093,2107,2114,2121,2128,2142,2149,2156,2163,2177,2184,2191,2198,2212,2219,2226,2233,2247,2254,2261,2268,2282,2289,2296,2303,2317,2324,2331,2338,2352,2359,2366,2373,2387,2394,2401,2408,2422,2429,2436,2443,2457,2464,2471,2478,2492,2499,2506,2513,2527,2534,2541,2548,2562,2569,2576,2583,2597,2604,2611,2618,2632,2639,2646,2653,2667,2674,2681,2688,2702,2709,2716,2723,2737,2744,2751,2758,2772,2779,2786,2793,2807,2814,2821,2828,2842,2849,2856,2863,2877,2884,2891,2898,2912,2919,2926,2933,2947,2954,2961,2968,2982,2989,2996,3003,3017,3024,3031,3038,3052,3059,3066,3073,3087,3094,3101,3108,3122,3129,3136,3143,3157,3164,3171,3178,3192,3199\n"
     ]
    }
   ],
   "source": [
    "'''\n",
    "This program finds the numbers which are divisible by 7 but are not a multiple of 5,\n",
    "between 2000 and 3200 (both included) and prints numbers obtained in a comma-separated sequence on a single line. \n",
    "'''\n",
    "result=\"\" #Initializing result as empty string\n",
    "for i in range(2000,3201): #Iterating from 2000 to 3200 (both included)\n",
    "    if (i % 7 == 0) & (i % 5 != 0): #Checking if number is divisible by 7 but not a multiple of 5\n",
    "        result=result+str(i)+',' #Adding to result if number is divisible by 7 but not a multiple of 5 with comma suffix\n",
    "result = result[:-1] #Removing extra comma from the result string\n",
    "print(result) #Printing the result"
   ]
  },
  {
   "cell_type": "markdown",
   "metadata": {},
   "source": [
    "### 3. Write a Python program to accept the user's first and last name and then getting them printed in the the reverse order with a space between first name and last name."
   ]
  },
  {
   "cell_type": "code",
   "execution_count": 12,
   "metadata": {},
   "outputs": [
    {
     "name": "stdout",
     "output_type": "stream",
     "text": [
      "Enter first name: John\n",
      "Enter last name: Doe\n",
      "eoD nhoJ\n"
     ]
    }
   ],
   "source": [
    "'''\n",
    "This program accepts the user's first and last name and then print them in\n",
    "the reverse order with a space between first name and last name.\n",
    "'''\n",
    "first_name = input(\"Enter first name: \") #Taking first name input\n",
    "last_name = input(\"Enter last name: \") #Taking last name input\n",
    "full_name = first_name + \" \" + last_name #Adding first_name and last_name with a space between them\n",
    "print (full_name[::-1]) #Printing full_name in reverse order "
   ]
  },
  {
   "cell_type": "markdown",
   "metadata": {},
   "source": [
    "### 4. Write a Python program to find the volume of a sphere with diameter 12 cm. Formula: V=4/3 * π * r 3"
   ]
  },
  {
   "cell_type": "code",
   "execution_count": 4,
   "metadata": {},
   "outputs": [
    {
     "name": "stdout",
     "output_type": "stream",
     "text": [
      "904.7786842338604\n"
     ]
    }
   ],
   "source": [
    "'''\n",
    "This program finds the volume of a sphere with diameter 12 cm.\n",
    "'''\n",
    "import math #Importing math library\n",
    "diameter = 12 #Assigning given diameter value to diameter variable\n",
    "radius = float(diameter)/2 #Calculating radius from given diameter \n",
    "volume_of_sphere = (4*math.pi*(radius)**3)/3 #Calculating the volume of the sphere using calculated radius \n",
    "print (volume_of_sphere) #Printing the calculated volume of sphere of given diameter"
   ]
  },
  {
   "cell_type": "markdown",
   "metadata": {},
   "source": [
    "# Task 2:"
   ]
  },
  {
   "cell_type": "markdown",
   "metadata": {},
   "source": [
    "### 1. Write a program which accepts a sequence of comma-separated numbers from console and generate a list."
   ]
  },
  {
   "cell_type": "code",
   "execution_count": 1,
   "metadata": {},
   "outputs": [
    {
     "name": "stdout",
     "output_type": "stream",
     "text": [
      "Enter comma separated values: 7,8,9\n",
      "['7', '8', '9']\n"
     ]
    }
   ],
   "source": [
    "'''\n",
    "This program accepts a sequence of comma-separated numbers from console and generate a list.\n",
    "'''\n",
    "comma_separated_values = input(\"Enter comma separated values: \") #Taking input from console\n",
    "number_list = comma_separated_values.split(',') #Splitting the input by comma and assigning the list to the number_list variable\n",
    "print(number_list) #Printing generated list "
   ]
  },
  {
   "cell_type": "markdown",
   "metadata": {},
   "source": [
    "### 2. Create the below pattern using nested for loop in Python.\n",
    "\n",
    "<p>*<br/>\n",
    " **<br/>\n",
    " ***<br/>\n",
    " ****<br/>\n",
    " *****<br/>\n",
    " ****<br/>\n",
    " ***<br/>\n",
    " **<br/>\n",
    " *</p>"
   ]
  },
  {
   "cell_type": "code",
   "execution_count": 3,
   "metadata": {},
   "outputs": [
    {
     "name": "stdout",
     "output_type": "stream",
     "text": [
      "*\n",
      "**\n",
      "***\n",
      "****\n",
      "*****\n",
      "****\n",
      "***\n",
      "**\n",
      "*\n"
     ]
    }
   ],
   "source": [
    "'''\n",
    "This program prints the specified pattern using nested for loop.\n",
    "'''\n",
    "number_list = [1,2,3,4,5,4,3,2,1] #Assigning the custom list to the number_list variable\n",
    "for i in number_list: #Iterating through the number_list list\n",
    "    print(\"*\" * i) #Printing the specified pattern "
   ]
  },
  {
   "cell_type": "markdown",
   "metadata": {},
   "source": [
    "### 3.Write a Python program to reverse a word after accepting the input from the user.\n",
    "#### Sample Output:\n",
    "#### Input word: AcadGild\n",
    "#### Output: dliGdacA"
   ]
  },
  {
   "cell_type": "code",
   "execution_count": 5,
   "metadata": {},
   "outputs": [
    {
     "name": "stdout",
     "output_type": "stream",
     "text": [
      "Input word: AcadGild\n",
      "Output: dliGdacA\n"
     ]
    }
   ],
   "source": [
    "input_word=input(\"Input word: \") #Taking input from console\n",
    "print(\"Output:\",input_word[::-1]) #Printing the input_word in reverse"
   ]
  },
  {
   "cell_type": "markdown",
   "metadata": {},
   "source": [
    "### 4.Write a Python Program to print the given string in the format specified in the sample output.\n",
    "#### WE, THE PEOPLE OF INDIA, having solemnly resolved to constitute India into a SOVEREIGN, SOCIALIST, SECULAR, DEMOCRATIC REPUBLIC and to secure to all its citizens\n",
    "#### Sample Output:\n",
    "<p>WE, THE PEOPLE OF INDIA,<br/>\n",
    "&nbsp;&nbsp;&nbsp;&nbsp;&nbsp;&nbsp;&nbsp;&nbsp;&nbsp;&nbsp;&nbsp;&nbsp;&nbsp;&nbsp;&nbsp;&nbsp;having solemnly resolved to constitute India into a SOVEREIGN, !<br/>\n",
    "&nbsp;&nbsp;&nbsp;&nbsp;&nbsp;&nbsp;&nbsp;&nbsp;&nbsp;&nbsp;&nbsp;&nbsp;&nbsp;&nbsp;&nbsp;&nbsp;&nbsp;&nbsp;&nbsp;&nbsp;&nbsp;&nbsp;&nbsp;&nbsp;&nbsp;&nbsp;&nbsp;&nbsp;SOCIALIST, SECULAR, DEMOCRATIC REPUBLIC<br/>\n",
    "&nbsp;&nbsp;&nbsp;&nbsp;&nbsp;&nbsp;&nbsp;&nbsp;&nbsp;&nbsp;&nbsp;&nbsp;&nbsp;&nbsp;&nbsp;&nbsp;&nbsp;&nbsp;&nbsp;&nbsp;&nbsp;&nbsp;&nbsp;&nbsp;&nbsp;&nbsp;&nbsp;&nbsp;&nbsp;&nbsp;and to secure to all its citizens</p>"
   ]
  },
  {
   "cell_type": "code",
   "execution_count": 4,
   "metadata": {},
   "outputs": [
    {
     "name": "stdout",
     "output_type": "stream",
     "text": [
      "WE, THE PEOPLE OF INDIA, \n",
      "\thaving solemnly resolved to constitute India into a SOVEREIGN, !\n",
      "\t\tSOCIALIST, SECULAR, DEMOCRATIC REPUBLIC \n",
      "\t\t and to secure to all its citizens\n"
     ]
    }
   ],
   "source": [
    "'''\n",
    "This program prints the given string in the format specified.\n",
    "'''\n",
    "print(\"WE, THE PEOPLE OF INDIA, \\n\\thaving solemnly resolved to constitute India into a SOVEREIGN, !\\n\\t\\tSOCIALIST, SECULAR, DEMOCRATIC REPUBLIC \\n\\t\\t and to secure to all its citizens\")"
   ]
  }
 ],
 "metadata": {
  "kernelspec": {
   "display_name": "Python 3",
   "language": "python",
   "name": "python3"
  },
  "language_info": {
   "codemirror_mode": {
    "name": "ipython",
    "version": 3
   },
   "file_extension": ".py",
   "mimetype": "text/x-python",
   "name": "python",
   "nbconvert_exporter": "python",
   "pygments_lexer": "ipython3",
   "version": "3.6.4"
  }
 },
 "nbformat": 4,
 "nbformat_minor": 2
}
